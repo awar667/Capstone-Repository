{
    "cells": [
        {
            "cell_type": "markdown",
            "metadata": {
                "collapsed": true
            },
            "source": "# __Capstone Final Project__"
        },
        {
            "cell_type": "markdown",
            "metadata": {},
            "source": "## Determining the ideal neighborhood for a coffee shop in Toronto"
        },
        {
            "cell_type": "markdown",
            "metadata": {},
            "source": "### Importing libraries"
        },
        {
            "cell_type": "code",
            "execution_count": 4,
            "metadata": {},
            "outputs": [
                {
                    "name": "stdout",
                    "output_type": "stream",
                    "text": "Solving environment: done\n\n## Package Plan ##\n\n  environment location: /opt/conda/envs/Python36\n\n  added / updated specs: \n    - geopy\n\n\nThe following packages will be downloaded:\n\n    package                    |            build\n    ---------------------------|-----------------\n    geographiclib-1.50         |             py_0          34 KB  conda-forge\n    openssl-1.1.1d             |       h516909a_0         2.1 MB  conda-forge\n    certifi-2019.11.28         |           py36_0         149 KB  conda-forge\n    geopy-1.21.0               |             py_0          58 KB  conda-forge\n    ca-certificates-2019.11.28 |       hecc5488_0         145 KB  conda-forge\n    ------------------------------------------------------------\n                                           Total:         2.5 MB\n\nThe following NEW packages will be INSTALLED:\n\n    geographiclib:   1.50-py_0         conda-forge\n    geopy:           1.21.0-py_0       conda-forge\n\nThe following packages will be UPDATED:\n\n    ca-certificates: 2019.11.27-0                  --> 2019.11.28-hecc5488_0 conda-forge\n    certifi:         2019.11.28-py36_0             --> 2019.11.28-py36_0     conda-forge\n\nThe following packages will be DOWNGRADED:\n\n    openssl:         1.1.1d-h7b6447c_3             --> 1.1.1d-h516909a_0     conda-forge\n\n\nDownloading and Extracting Packages\ngeographiclib-1.50   | 34 KB     | ##################################### | 100% \nopenssl-1.1.1d       | 2.1 MB    | ##################################### | 100% \ncertifi-2019.11.28   | 149 KB    | ##################################### | 100% \ngeopy-1.21.0         | 58 KB     | ##################################### | 100% \nca-certificates-2019 | 145 KB    | ##################################### | 100% \nPreparing transaction: done\nVerifying transaction: done\nExecuting transaction: done\nSolving environment: done\n\n## Package Plan ##\n\n  environment location: /opt/conda/envs/Python36\n\n  added / updated specs: \n    - folium=0.5.0\n\n\nThe following packages will be downloaded:\n\n    package                    |            build\n    ---------------------------|-----------------\n    altair-4.0.1               |             py_0         575 KB  conda-forge\n    branca-0.3.1               |             py_0          25 KB  conda-forge\n    folium-0.5.0               |             py_0          45 KB  conda-forge\n    vincent-0.4.4              |             py_1          28 KB  conda-forge\n    ------------------------------------------------------------\n                                           Total:         673 KB\n\nThe following NEW packages will be INSTALLED:\n\n    altair:  4.0.1-py_0 conda-forge\n    branca:  0.3.1-py_0 conda-forge\n    folium:  0.5.0-py_0 conda-forge\n    vincent: 0.4.4-py_1 conda-forge\n\n\nDownloading and Extracting Packages\naltair-4.0.1         | 575 KB    | ##################################### | 100% \nbranca-0.3.1         | 25 KB     | ##################################### | 100% \nfolium-0.5.0         | 45 KB     | ##################################### | 100% \nvincent-0.4.4        | 28 KB     | ##################################### | 100% \nPreparing transaction: done\nVerifying transaction: done\nExecuting transaction: done\nLibraries imported.\n"
                }
            ],
            "source": "import numpy as np \nimport pandas as pd \npd.set_option('display.max_columns', None)\npd.set_option('display.max_rows', None)\n\nimport json \n\n!conda install -c conda-forge geopy --yes \nfrom geopy.geocoders import Nominatim \n\nimport requests \nfrom pandas.io.json import json_normalize \n\nimport matplotlib.cm as cm\nimport matplotlib.colors as colors\n\nfrom sklearn.cluster import KMeans\n\n!conda install -c conda-forge folium=0.5.0 --yes \nimport folium \n\nprint('Libraries imported.')"
        },
        {
            "cell_type": "code",
            "execution_count": 5,
            "metadata": {},
            "outputs": [],
            "source": "# A csv file of the wikipedia data was made from an online converter (https://wikitable2csv.ggor.de/) and then uploaded to my repository. I then load it here\nurl = 'https://raw.githubusercontent.com/awar667/Capstone-Repository/master/wiki-csv'\ndf = pd.read_csv(url, error_bad_lines=False)"
        },
        {
            "cell_type": "markdown",
            "metadata": {},
            "source": "### Eliminating Not Assigned Rows, Grouping by Postcode"
        },
        {
            "cell_type": "code",
            "execution_count": 6,
            "metadata": {},
            "outputs": [],
            "source": "df2 = df[df.Borough != 'Not assigned']"
        },
        {
            "cell_type": "code",
            "execution_count": 7,
            "metadata": {},
            "outputs": [],
            "source": "df3 = df2.groupby('Postcode').agg({'Borough' : 'first', 'Neighbourhood' : ', '.join}).reset_index().reindex(columns=df.columns)"
        },
        {
            "cell_type": "markdown",
            "metadata": {},
            "source": "### Obtaining Latitude/Longitude Values and Merging to Table"
        },
        {
            "cell_type": "code",
            "execution_count": 8,
            "metadata": {},
            "outputs": [],
            "source": "# get geo data\nurl2 = \"https://cocl.us/Geospatial_data\"\ndfa = pd.read_csv(url2, error_bad_lines=False)\ndfa.rename(columns = {'Postal Code':'Postcode'}, inplace = True)"
        },
        {
            "cell_type": "code",
            "execution_count": 9,
            "metadata": {},
            "outputs": [],
            "source": "merged = pd.merge(df3,dfa, on ='Postcode')"
        },
        {
            "cell_type": "markdown",
            "metadata": {},
            "source": "### Retrieving Venue Data From Foursquare"
        },
        {
            "cell_type": "code",
            "execution_count": 10,
            "metadata": {},
            "outputs": [],
            "source": "CLIENT_ID = 'OJXC4W4QFQGNY2YD2FECJESEC5I0WAAGFAODZUVZ2M0QLTVY' \nCLIENT_SECRET = 'SWTN20JFMIZOXYDSLGLEAT0WBB3END2LC3SNXR3EBQEAHH2N'\nVERSION = '20180605'"
        },
        {
            "cell_type": "code",
            "execution_count": 11,
            "metadata": {},
            "outputs": [],
            "source": "neighborhood_latitude = merged.loc[0, 'Latitude'] \nneighborhood_longitude = merged.loc[0, 'Longitude']\nneighborhood_name = merged.loc[0, 'Neighbourhood']"
        },
        {
            "cell_type": "code",
            "execution_count": 12,
            "metadata": {},
            "outputs": [],
            "source": "LIMIT = 100\nradius = 500\n\nurl3 = 'https://api.foursquare.com/v2/venues/explore?&client_id={}&client_secret={}&v={}&ll={},{}&radius={}&limit={}'.format(\n    CLIENT_ID, \n    CLIENT_SECRET, \n    VERSION, \n    neighborhood_latitude, \n    neighborhood_longitude, \n    radius, \n    LIMIT)"
        },
        {
            "cell_type": "code",
            "execution_count": 13,
            "metadata": {},
            "outputs": [],
            "source": "nr = requests.get(url3).json()"
        },
        {
            "cell_type": "code",
            "execution_count": 14,
            "metadata": {},
            "outputs": [],
            "source": "def get_category_type(row):\n    try:\n        categories_list = row['categories']\n    except:\n        categories_list = row['venue.categories']\n        \n    if len(categories_list) == 0:\n        return None\n    else:\n        return categories_list[0]['name']"
        },
        {
            "cell_type": "code",
            "execution_count": 15,
            "metadata": {},
            "outputs": [],
            "source": "venues = nr['response']['groups'][0]['items']\n    \nnearby_venues = json_normalize(venues)\nfiltered_columns = ['venue.name', 'venue.categories', 'venue.location.lat', 'venue.location.lng']\nnearby_venues =nearby_venues.loc[:, filtered_columns]\nnearby_venues['venue.categories'] = nearby_venues.apply(get_category_type, axis=1)\n\nnearby_venues.columns = [col.split(\".\")[-1] for col in nearby_venues.columns]"
        },
        {
            "cell_type": "code",
            "execution_count": 16,
            "metadata": {},
            "outputs": [],
            "source": "def getNearbyVenues(names, latitudes, longitudes, radius=500):\n    \n    venues_list=[]\n    for name, lat, lng in zip(names, latitudes, longitudes):\n        print(name)\n            \n        url = 'https://api.foursquare.com/v2/venues/explore?&client_id={}&client_secret={}&v={}&ll={},{}&radius={}&limit={}'.format(\n            CLIENT_ID, \n            CLIENT_SECRET, \n            VERSION, \n            lat, \n            lng, \n            radius, \n            LIMIT)\n            \n        results = requests.get(url).json()[\"response\"]['groups'][0]['items']\n        venues_list.append([(\n            name, \n            lat, \n            lng, \n            v['venue']['name'], \n            v['venue']['location']['lat'], \n            v['venue']['location']['lng'],  \n            v['venue']['categories'][0]['name']) for v in results])\n\n    nearby_venues = pd.DataFrame([item for venue_list in venues_list for item in venue_list])\n    nearby_venues.columns = ['Neighborhood', \n                  'Neighborhood Latitude', \n                  'Neighborhood Longitude', \n                  'Venue', \n                  'Venue Latitude', \n                  'Venue Longitude', \n                  'Venue Category']\n    \n    return(nearby_venues)"
        },
        {
            "cell_type": "code",
            "execution_count": 20,
            "metadata": {
                "scrolled": true
            },
            "outputs": [
                {
                    "name": "stdout",
                    "output_type": "stream",
                    "text": "Rouge, Malvern\nHighland Creek, Rouge Hill, Port Union\nGuildwood, Morningside, West Hill\nWoburn\nCedarbrae\nScarborough Village\nEast Birchmount Park, Ionview, Kennedy Park\nClairlea, Golden Mile, Oakridge\nCliffcrest, Cliffside, Scarborough Village West\nBirch Cliff, Cliffside West\nDorset Park, Scarborough Town Centre, Wexford Heights\nMaryvale, Wexford\nAgincourt\nClarks Corners, Sullivan, Tam O'Shanter\nAgincourt North, L'Amoreaux East, Milliken, Steeles East\nL'Amoreaux West\nUpper Rouge\nHillcrest Village\nFairview, Henry Farm, Oriole\nBayview Village\nSilver Hills, York Mills\nNewtonbrook, Willowdale\nWillowdale South\nYork Mills West\nWillowdale West\nParkwoods\nDon Mills North\nFlemingdon Park, Don Mills South\nBathurst Manor, Downsview North, Wilson Heights\nNorthwood Park, York University\nCFB Toronto, Downsview East\nDownsview West\nDownsview Central\nDownsview Northwest\nVictoria Village\nWoodbine Gardens, Parkview Hill\nWoodbine Heights\nThe Beaches\nLeaside\nThorncliffe Park\nEast Toronto\nThe Danforth West, Riverdale\nThe Beaches West, India Bazaar\nStudio District\nLawrence Park\nDavisville North\nNorth Toronto West\nDavisville\nMoore Park, Summerhill East\nDeer Park, Forest Hill SE, Rathnelly, South Hill, Summerhill West\nRosedale\nCabbagetown, St. James Town\nChurch and Wellesley\nHarbourfront\nRyerson, Garden District\nSt. James Town\nBerczy Park\nCentral Bay Street\nAdelaide, King, Richmond\nHarbourfront East, Toronto Islands, Union Station\nDesign Exchange, Toronto Dominion Centre\nCommerce Court, Victoria Hotel\nBedford Park, Lawrence Manor East\nRoselawn\nForest Hill North, Forest Hill West\nThe Annex, North Midtown, Yorkville\nHarbord, University of Toronto\nChinatown, Grange Park, Kensington Market\nCN Tower, Bathurst Quay, Island airport, Harbourfront West, King and Spadina, Railway Lands, South Niagara\nStn A PO Boxes 25 The Esplanade\nFirst Canadian Place, Underground city\nLawrence Heights, Lawrence Manor\nGlencairn\nHumewood-Cedarvale\nCaledonia-Fairbanks\nChristie\nDovercourt Village, Dufferin\nLittle Portugal, Trinity\nBrockton, Exhibition Place, Parkdale Village\nDownsview, North Park, Upwood Park\nDel Ray, Keelesdale, Mount Dennis, Silverthorn\nThe Junction North, Runnymede\nHigh Park, The Junction South\nParkdale, Roncesvalles\nRunnymede, Swansea\nQueen's Park\nCanada Post Gateway Processing Centre\nBusiness Reply Mail Processing Centre 969 Eastern\nHumber Bay Shores, Mimico South, New Toronto\nAlderwood, Long Branch\nThe Kingsway, Montgomery Road, Old Mill North\nHumber Bay, King's Mill Park, Kingsway Park South East, Mimico NE, Old Mill South, The Queensway East, Royal York South East, Sunnylea\nKingsway Park South West, Mimico NW, The Queensway West, Royal York South West, South of Bloor\nNot assigned\nCloverdale, Islington, Martin Grove, Princess Gardens, West Deane Park\nBloordale Gardens, Eringate, Markland Wood, Old Burnhamthorpe\nHumber Summit\nEmery, Humberlea\nWeston\nWestmount\nKingsview Village, Martin Grove Gardens, Richview Gardens, St. Phillips\nAlbion Gardens, Beaumond Heights, Humbergate, Jamestown, Mount Olive, Silverstone, South Steeles, Thistletown\nNorthwest\n"
                }
            ],
            "source": "Toronto_venues = getNearbyVenues(names=merged['Neighbourhood'], latitudes=merged['Latitude'], longitudes=merged['Longitude'])"
        },
        {
            "cell_type": "markdown",
            "metadata": {},
            "source": "### Sample of Venue List"
        },
        {
            "cell_type": "code",
            "execution_count": 90,
            "metadata": {},
            "outputs": [
                {
                    "data": {
                        "text/html": "<div>\n<style scoped>\n    .dataframe tbody tr th:only-of-type {\n        vertical-align: middle;\n    }\n\n    .dataframe tbody tr th {\n        vertical-align: top;\n    }\n\n    .dataframe thead th {\n        text-align: right;\n    }\n</style>\n<table border=\"1\" class=\"dataframe\">\n  <thead>\n    <tr style=\"text-align: right;\">\n      <th></th>\n      <th>Neighborhood</th>\n      <th>Neighborhood Latitude</th>\n      <th>Neighborhood Longitude</th>\n      <th>Venue</th>\n      <th>Venue Latitude</th>\n      <th>Venue Longitude</th>\n      <th>Venue Category</th>\n    </tr>\n  </thead>\n  <tbody>\n    <tr>\n      <th>0</th>\n      <td>Rouge, Malvern</td>\n      <td>43.806686</td>\n      <td>-79.194353</td>\n      <td>Wendy's</td>\n      <td>43.807448</td>\n      <td>-79.199056</td>\n      <td>Fast Food Restaurant</td>\n    </tr>\n    <tr>\n      <th>1</th>\n      <td>Highland Creek, Rouge Hill, Port Union</td>\n      <td>43.784535</td>\n      <td>-79.160497</td>\n      <td>Royal Canadian Legion</td>\n      <td>43.782533</td>\n      <td>-79.163085</td>\n      <td>Bar</td>\n    </tr>\n    <tr>\n      <th>2</th>\n      <td>Guildwood, Morningside, West Hill</td>\n      <td>43.763573</td>\n      <td>-79.188711</td>\n      <td>Swiss Chalet Rotisserie &amp; Grill</td>\n      <td>43.767697</td>\n      <td>-79.189914</td>\n      <td>Pizza Place</td>\n    </tr>\n    <tr>\n      <th>3</th>\n      <td>Guildwood, Morningside, West Hill</td>\n      <td>43.763573</td>\n      <td>-79.188711</td>\n      <td>G &amp; G Electronics</td>\n      <td>43.765309</td>\n      <td>-79.191537</td>\n      <td>Electronics Store</td>\n    </tr>\n    <tr>\n      <th>4</th>\n      <td>Guildwood, Morningside, West Hill</td>\n      <td>43.763573</td>\n      <td>-79.188711</td>\n      <td>Marina Spa</td>\n      <td>43.766000</td>\n      <td>-79.191000</td>\n      <td>Spa</td>\n    </tr>\n  </tbody>\n</table>\n</div>",
                        "text/plain": "                             Neighborhood  Neighborhood Latitude  \\\n0                          Rouge, Malvern              43.806686   \n1  Highland Creek, Rouge Hill, Port Union              43.784535   \n2       Guildwood, Morningside, West Hill              43.763573   \n3       Guildwood, Morningside, West Hill              43.763573   \n4       Guildwood, Morningside, West Hill              43.763573   \n\n   Neighborhood Longitude                            Venue  Venue Latitude  \\\n0              -79.194353                          Wendy's       43.807448   \n1              -79.160497            Royal Canadian Legion       43.782533   \n2              -79.188711  Swiss Chalet Rotisserie & Grill       43.767697   \n3              -79.188711                G & G Electronics       43.765309   \n4              -79.188711                       Marina Spa       43.766000   \n\n   Venue Longitude        Venue Category  \n0       -79.199056  Fast Food Restaurant  \n1       -79.163085                   Bar  \n2       -79.189914           Pizza Place  \n3       -79.191537     Electronics Store  \n4       -79.191000                   Spa  "
                    },
                    "execution_count": 90,
                    "metadata": {},
                    "output_type": "execute_result"
                }
            ],
            "source": "Toronto_venues.head()"
        },
        {
            "cell_type": "markdown",
            "metadata": {},
            "source": "### Merging Venue Categories for Each Neighborhood"
        },
        {
            "cell_type": "code",
            "execution_count": 30,
            "metadata": {},
            "outputs": [],
            "source": "t_agg = Toronto_venues.groupby('Neighborhood').agg({'Venue Category' : ', '.join})"
        },
        {
            "cell_type": "code",
            "execution_count": 89,
            "metadata": {
                "scrolled": true
            },
            "outputs": [
                {
                    "data": {
                        "text/html": "<div>\n<style scoped>\n    .dataframe tbody tr th:only-of-type {\n        vertical-align: middle;\n    }\n\n    .dataframe tbody tr th {\n        vertical-align: top;\n    }\n\n    .dataframe thead th {\n        text-align: right;\n    }\n</style>\n<table border=\"1\" class=\"dataframe\">\n  <thead>\n    <tr style=\"text-align: right;\">\n      <th></th>\n      <th>Venue Category</th>\n    </tr>\n    <tr>\n      <th>Neighborhood</th>\n      <th></th>\n    </tr>\n  </thead>\n  <tbody>\n    <tr>\n      <th>Adelaide, King, Richmond</th>\n      <td>Concert Hall, Vegetarian / Vegan Restaurant, S...</td>\n    </tr>\n    <tr>\n      <th>Agincourt</th>\n      <td>Breakfast Spot, Lounge, Latin American Restaur...</td>\n    </tr>\n    <tr>\n      <th>Agincourt North, L'Amoreaux East, Milliken, Steeles East</th>\n      <td>Park, Playground</td>\n    </tr>\n    <tr>\n      <th>Albion Gardens, Beaumond Heights, Humbergate, Jamestown, Mount Olive, Silverstone, South Steeles, Thistletown</th>\n      <td>Pharmacy, Sandwich Place, Fried Chicken Joint,...</td>\n    </tr>\n    <tr>\n      <th>Alderwood, Long Branch</th>\n      <td>Pizza Place, Gym, Pub, Coffee Shop, Pizza Plac...</td>\n    </tr>\n  </tbody>\n</table>\n</div>",
                        "text/plain": "                                                                                       Venue Category\nNeighborhood                                                                                         \nAdelaide, King, Richmond                            Concert Hall, Vegetarian / Vegan Restaurant, S...\nAgincourt                                           Breakfast Spot, Lounge, Latin American Restaur...\nAgincourt North, L'Amoreaux East, Milliken, Ste...                                   Park, Playground\nAlbion Gardens, Beaumond Heights, Humbergate, J...  Pharmacy, Sandwich Place, Fried Chicken Joint,...\nAlderwood, Long Branch                              Pizza Place, Gym, Pub, Coffee Shop, Pizza Plac..."
                    },
                    "execution_count": 89,
                    "metadata": {},
                    "output_type": "execute_result"
                }
            ],
            "source": "t_agg.head()"
        },
        {
            "cell_type": "markdown",
            "metadata": {},
            "source": "### Counting & Displaying Number of Coffee Shops per Neighborhood"
        },
        {
            "cell_type": "code",
            "execution_count": 88,
            "metadata": {
                "scrolled": false
            },
            "outputs": [
                {
                    "data": {
                        "text/html": "<div>\n<style scoped>\n    .dataframe tbody tr th:only-of-type {\n        vertical-align: middle;\n    }\n\n    .dataframe tbody tr th {\n        vertical-align: top;\n    }\n\n    .dataframe thead th {\n        text-align: right;\n    }\n</style>\n<table border=\"1\" class=\"dataframe\">\n  <thead>\n    <tr style=\"text-align: right;\">\n      <th></th>\n      <th>Neighborhood</th>\n      <th># Coffee Shops</th>\n    </tr>\n  </thead>\n  <tbody>\n    <tr>\n      <th>0</th>\n      <td>Adelaide, King, Richmond</td>\n      <td>7.0</td>\n    </tr>\n    <tr>\n      <th>1</th>\n      <td>Agincourt</td>\n      <td>0.0</td>\n    </tr>\n    <tr>\n      <th>2</th>\n      <td>Agincourt North, L'Amoreaux East, Milliken, St...</td>\n      <td>0.0</td>\n    </tr>\n    <tr>\n      <th>3</th>\n      <td>Albion Gardens, Beaumond Heights, Humbergate, ...</td>\n      <td>1.0</td>\n    </tr>\n    <tr>\n      <th>4</th>\n      <td>Alderwood, Long Branch</td>\n      <td>1.0</td>\n    </tr>\n  </tbody>\n</table>\n</div>",
                        "text/plain": "                                        Neighborhood  # Coffee Shops\n0                           Adelaide, King, Richmond             7.0\n1                                          Agincourt             0.0\n2  Agincourt North, L'Amoreaux East, Milliken, St...             0.0\n3  Albion Gardens, Beaumond Heights, Humbergate, ...             1.0\n4                             Alderwood, Long Branch             1.0"
                    },
                    "execution_count": 88,
                    "metadata": {},
                    "output_type": "execute_result"
                }
            ],
            "source": "cof = pd.DataFrame({'Neighborhood': [], '# Coffee Shops': []})\n\nfor index, row in t_agg.iterrows():\n    t0 = row.str.count('Coffee Shop')\n    cof = cof.append({'Neighborhood': index, '# Coffee Shops': int(t0)}, ignore_index = True)\ncof.head()"
        },
        {
            "cell_type": "code",
            "execution_count": 92,
            "metadata": {},
            "outputs": [],
            "source": "# Counting number of venues per neighborhood\nnum_ven = Toronto_venues.groupby('Neighborhood').count()"
        },
        {
            "cell_type": "markdown",
            "metadata": {},
            "source": "### Dividing the Number of Coffee Shops by the Number of Venues for Each Neighborhood to Determine the Percentage of Venues that are Coffee Shops"
        },
        {
            "cell_type": "code",
            "execution_count": 93,
            "metadata": {},
            "outputs": [
                {
                    "data": {
                        "text/html": "<div>\n<style scoped>\n    .dataframe tbody tr th:only-of-type {\n        vertical-align: middle;\n    }\n\n    .dataframe tbody tr th {\n        vertical-align: top;\n    }\n\n    .dataframe thead th {\n        text-align: right;\n    }\n</style>\n<table border=\"1\" class=\"dataframe\">\n  <thead>\n    <tr style=\"text-align: right;\">\n      <th></th>\n      <th>Neighborhood</th>\n      <th>% Coffee Shops</th>\n      <th># Venues</th>\n    </tr>\n  </thead>\n  <tbody>\n    <tr>\n      <th>0</th>\n      <td>Adelaide, King, Richmond</td>\n      <td>0.070000</td>\n      <td>100.0</td>\n    </tr>\n    <tr>\n      <th>1</th>\n      <td>Agincourt</td>\n      <td>0.000000</td>\n      <td>5.0</td>\n    </tr>\n    <tr>\n      <th>2</th>\n      <td>Agincourt North, L'Amoreaux East, Milliken, St...</td>\n      <td>0.000000</td>\n      <td>2.0</td>\n    </tr>\n    <tr>\n      <th>3</th>\n      <td>Albion Gardens, Beaumond Heights, Humbergate, ...</td>\n      <td>0.100000</td>\n      <td>10.0</td>\n    </tr>\n    <tr>\n      <th>4</th>\n      <td>Alderwood, Long Branch</td>\n      <td>0.111111</td>\n      <td>9.0</td>\n    </tr>\n  </tbody>\n</table>\n</div>",
                        "text/plain": "                                        Neighborhood  % Coffee Shops  # Venues\n0                           Adelaide, King, Richmond        0.070000     100.0\n1                                          Agincourt        0.000000       5.0\n2  Agincourt North, L'Amoreaux East, Milliken, St...        0.000000       2.0\n3  Albion Gardens, Beaumond Heights, Humbergate, ...        0.100000      10.0\n4                             Alderwood, Long Branch        0.111111       9.0"
                    },
                    "execution_count": 93,
                    "metadata": {},
                    "output_type": "execute_result"
                }
            ],
            "source": "final = pd.DataFrame({'Neighborhood': [], '% Coffee Shops': [], '# Venues': []})\n\nn = 0\nfor index, row in num_ven.iterrows():\n    t2 = cof.iloc[n,1]/num_ven.iloc[n,1]\n    final = final.append({'Neighborhood': index, '% Coffee Shops': t2, '# Venues': num_ven.iloc[n,1]}, ignore_index = True)\n    n = n + 1\nfinal.head()    "
        },
        {
            "cell_type": "markdown",
            "metadata": {},
            "source": "### Obtaining the Highest Number of Venues and the Highest Ratio of Coffee Shops to Venues"
        },
        {
            "cell_type": "code",
            "execution_count": 73,
            "metadata": {},
            "outputs": [
                {
                    "data": {
                        "text/plain": "100.0"
                    },
                    "execution_count": 73,
                    "metadata": {},
                    "output_type": "execute_result"
                }
            ],
            "source": "max_num = final['# Venues'].max()\nmax_num"
        },
        {
            "cell_type": "code",
            "execution_count": 75,
            "metadata": {},
            "outputs": [
                {
                    "data": {
                        "text/plain": "0.6666666666666666"
                    },
                    "execution_count": 75,
                    "metadata": {},
                    "output_type": "execute_result"
                }
            ],
            "source": "max_per = final['% Coffee Shops'].max()\nmax_per"
        },
        {
            "cell_type": "markdown",
            "metadata": {},
            "source": "### Plot of the Relationship between the Total Number of Venues and the Percentage of Venues that are Coffee Shops"
        },
        {
            "cell_type": "code",
            "execution_count": 77,
            "metadata": {},
            "outputs": [
                {
                    "data": {
                        "text/plain": "<matplotlib.axes._subplots.AxesSubplot at 0x7f51e8a030b8>"
                    },
                    "execution_count": 77,
                    "metadata": {},
                    "output_type": "execute_result"
                },
                {
                    "data": {
                        "image/png": "[encoded data removed]",
                        "text/plain": "<Figure size 432x288 with 1 Axes>"
                    },
                    "metadata": {
                        "needs_background": "light"
                    },
                    "output_type": "display_data"
                }
            ],
            "source": "map0 = final.plot.scatter('% Coffee Shops', '# Venues')\nmap0"
        },
        {
            "cell_type": "markdown",
            "metadata": {},
            "source": "### Determining the Score: Which Location Best Combines a High Number of Venues (Consumer Activity) and a Low Percentage of Coffee Shops"
        },
        {
            "cell_type": "code",
            "execution_count": 82,
            "metadata": {},
            "outputs": [
                {
                    "data": {
                        "text/html": "<div>\n<style scoped>\n    .dataframe tbody tr th:only-of-type {\n        vertical-align: middle;\n    }\n\n    .dataframe tbody tr th {\n        vertical-align: top;\n    }\n\n    .dataframe thead th {\n        text-align: right;\n    }\n</style>\n<table border=\"1\" class=\"dataframe\">\n  <thead>\n    <tr style=\"text-align: right;\">\n      <th></th>\n      <th>Neighborhood</th>\n      <th>Score</th>\n    </tr>\n  </thead>\n  <tbody>\n    <tr>\n      <th>0</th>\n      <td>Adelaide, King, Richmond</td>\n      <td>0.947500</td>\n    </tr>\n    <tr>\n      <th>1</th>\n      <td>Agincourt</td>\n      <td>0.525000</td>\n    </tr>\n    <tr>\n      <th>2</th>\n      <td>Agincourt North, L'Amoreaux East, Milliken, St...</td>\n      <td>0.510000</td>\n    </tr>\n    <tr>\n      <th>3</th>\n      <td>Albion Gardens, Beaumond Heights, Humbergate, ...</td>\n      <td>0.475000</td>\n    </tr>\n    <tr>\n      <th>4</th>\n      <td>Alderwood, Long Branch</td>\n      <td>0.461667</td>\n    </tr>\n    <tr>\n      <th>5</th>\n      <td>Bathurst Manor, Downsview North, Wilson Heights</td>\n      <td>0.506667</td>\n    </tr>\n    <tr>\n      <th>6</th>\n      <td>Bayview Village</td>\n      <td>0.520000</td>\n    </tr>\n    <tr>\n      <th>7</th>\n      <td>Bedford Park, Lawrence Manor East</td>\n      <td>0.565000</td>\n    </tr>\n    <tr>\n      <th>8</th>\n      <td>Berczy Park</td>\n      <td>0.706818</td>\n    </tr>\n    <tr>\n      <th>9</th>\n      <td>Birch Cliff, Cliffside West</td>\n      <td>0.520000</td>\n    </tr>\n    <tr>\n      <th>10</th>\n      <td>Bloordale Gardens, Eringate, Markland Wood, Ol...</td>\n      <td>0.446250</td>\n    </tr>\n    <tr>\n      <th>11</th>\n      <td>Brockton, Exhibition Place, Parkdale Village</td>\n      <td>0.549783</td>\n    </tr>\n    <tr>\n      <th>12</th>\n      <td>Business Reply Mail Processing Centre 969 Eastern</td>\n      <td>0.595000</td>\n    </tr>\n    <tr>\n      <th>13</th>\n      <td>CFB Toronto, Downsview East</td>\n      <td>0.515000</td>\n    </tr>\n    <tr>\n      <th>14</th>\n      <td>CN Tower, Bathurst Quay, Island airport, Harbo...</td>\n      <td>0.540882</td>\n    </tr>\n    <tr>\n      <th>15</th>\n      <td>Cabbagetown, St. James Town</td>\n      <td>0.656429</td>\n    </tr>\n    <tr>\n      <th>16</th>\n      <td>Caledonia-Fairbanks</td>\n      <td>0.520000</td>\n    </tr>\n    <tr>\n      <th>17</th>\n      <td>Canada Post Gateway Processing Centre</td>\n      <td>0.435000</td>\n    </tr>\n    <tr>\n      <th>18</th>\n      <td>Cedarbrae</td>\n      <td>0.540000</td>\n    </tr>\n    <tr>\n      <th>19</th>\n      <td>Central Bay Street</td>\n      <td>0.801471</td>\n    </tr>\n    <tr>\n      <th>20</th>\n      <td>Chinatown, Grange Park, Kensington Market</td>\n      <td>0.867963</td>\n    </tr>\n    <tr>\n      <th>21</th>\n      <td>Christie</td>\n      <td>0.540882</td>\n    </tr>\n    <tr>\n      <th>22</th>\n      <td>Church and Wellesley</td>\n      <td>0.860783</td>\n    </tr>\n    <tr>\n      <th>23</th>\n      <td>Clairlea, Golden Mile, Oakridge</td>\n      <td>0.540000</td>\n    </tr>\n    <tr>\n      <th>24</th>\n      <td>Clarks Corners, Sullivan, Tam O'Shanter</td>\n      <td>0.555000</td>\n    </tr>\n    <tr>\n      <th>25</th>\n      <td>Cliffcrest, Cliffside, Scarborough Village West</td>\n      <td>0.510000</td>\n    </tr>\n    <tr>\n      <th>26</th>\n      <td>Cloverdale, Islington, Martin Grove, Princess ...</td>\n      <td>0.505000</td>\n    </tr>\n    <tr>\n      <th>27</th>\n      <td>Commerce Court, Victoria Hotel</td>\n      <td>0.910000</td>\n    </tr>\n    <tr>\n      <th>28</th>\n      <td>Davisville</td>\n      <td>0.632143</td>\n    </tr>\n    <tr>\n      <th>29</th>\n      <td>Davisville North</td>\n      <td>0.540000</td>\n    </tr>\n    <tr>\n      <th>30</th>\n      <td>Deer Park, Forest Hill SE, Rathnelly, South Hi...</td>\n      <td>0.462857</td>\n    </tr>\n    <tr>\n      <th>31</th>\n      <td>Del Ray, Keelesdale, Mount Dennis, Silverthorn</td>\n      <td>0.525000</td>\n    </tr>\n    <tr>\n      <th>32</th>\n      <td>Design Exchange, Toronto Dominion Centre</td>\n      <td>0.910000</td>\n    </tr>\n    <tr>\n      <th>33</th>\n      <td>Don Mills North</td>\n      <td>0.530000</td>\n    </tr>\n    <tr>\n      <th>34</th>\n      <td>Dorset Park, Scarborough Town Centre, Wexford ...</td>\n      <td>0.530000</td>\n    </tr>\n    <tr>\n      <th>35</th>\n      <td>Dovercourt Village, Dufferin</td>\n      <td>0.575000</td>\n    </tr>\n    <tr>\n      <th>36</th>\n      <td>Downsview Central</td>\n      <td>0.515000</td>\n    </tr>\n    <tr>\n      <th>37</th>\n      <td>Downsview Northwest</td>\n      <td>0.332500</td>\n    </tr>\n    <tr>\n      <th>38</th>\n      <td>Downsview West</td>\n      <td>0.530000</td>\n    </tr>\n    <tr>\n      <th>39</th>\n      <td>Downsview, North Park, Upwood Park</td>\n      <td>0.520000</td>\n    </tr>\n    <tr>\n      <th>40</th>\n      <td>East Birchmount Park, Ionview, Kennedy Park</td>\n      <td>0.375000</td>\n    </tr>\n    <tr>\n      <th>41</th>\n      <td>East Toronto</td>\n      <td>0.265000</td>\n    </tr>\n    <tr>\n      <th>42</th>\n      <td>Emery, Humberlea</td>\n      <td>0.515000</td>\n    </tr>\n    <tr>\n      <th>43</th>\n      <td>Fairview, Henry Farm, Oriole</td>\n      <td>0.755476</td>\n    </tr>\n    <tr>\n      <th>44</th>\n      <td>First Canadian Place, Underground city</td>\n      <td>0.917500</td>\n    </tr>\n    <tr>\n      <th>45</th>\n      <td>Flemingdon Park, Don Mills South</td>\n      <td>0.549783</td>\n    </tr>\n    <tr>\n      <th>46</th>\n      <td>Forest Hill North, Forest Hill West</td>\n      <td>0.520000</td>\n    </tr>\n    <tr>\n      <th>47</th>\n      <td>Glencairn</td>\n      <td>0.520000</td>\n    </tr>\n    <tr>\n      <th>48</th>\n      <td>Guildwood, Morningside, West Hill</td>\n      <td>0.540000</td>\n    </tr>\n    <tr>\n      <th>49</th>\n      <td>Harbord, University of Toronto</td>\n      <td>0.647941</td>\n    </tr>\n    <tr>\n      <th>50</th>\n      <td>Harbourfront</td>\n      <td>0.599565</td>\n    </tr>\n    <tr>\n      <th>51</th>\n      <td>Harbourfront East, Toronto Islands, Union Station</td>\n      <td>0.910000</td>\n    </tr>\n    <tr>\n      <th>52</th>\n      <td>High Park, The Junction South</td>\n      <td>0.615000</td>\n    </tr>\n    <tr>\n      <th>53</th>\n      <td>Highland Creek, Rouge Hill, Port Union</td>\n      <td>0.505000</td>\n    </tr>\n    <tr>\n      <th>54</th>\n      <td>Hillcrest Village</td>\n      <td>0.520000</td>\n    </tr>\n    <tr>\n      <th>55</th>\n      <td>Humber Bay Shores, Mimico South, New Toronto</td>\n      <td>0.565000</td>\n    </tr>\n    <tr>\n      <th>56</th>\n      <td>Humber Bay, King's Mill Park, Kingsway Park So...</td>\n      <td>0.505000</td>\n    </tr>\n    <tr>\n      <th>57</th>\n      <td>Humber Summit</td>\n      <td>0.510000</td>\n    </tr>\n    <tr>\n      <th>58</th>\n      <td>Humewood-Cedarvale</td>\n      <td>0.515000</td>\n    </tr>\n    <tr>\n      <th>59</th>\n      <td>Kingsview Village, Martin Grove Gardens, Richv...</td>\n      <td>0.520000</td>\n    </tr>\n    <tr>\n      <th>60</th>\n      <td>Kingsway Park South West, Mimico NW, The Queen...</td>\n      <td>0.570000</td>\n    </tr>\n    <tr>\n      <th>61</th>\n      <td>L'Amoreaux West</td>\n      <td>0.486818</td>\n    </tr>\n    <tr>\n      <th>62</th>\n      <td>Lawrence Heights, Lawrence Manor</td>\n      <td>0.525000</td>\n    </tr>\n    <tr>\n      <th>63</th>\n      <td>Lawrence Park</td>\n      <td>0.520000</td>\n    </tr>\n    <tr>\n      <th>64</th>\n      <td>Leaside</td>\n      <td>0.596818</td>\n    </tr>\n    <tr>\n      <th>65</th>\n      <td>Little Portugal, Trinity</td>\n      <td>0.722547</td>\n    </tr>\n    <tr>\n      <th>66</th>\n      <td>Maryvale, Wexford</td>\n      <td>0.540000</td>\n    </tr>\n    <tr>\n      <th>67</th>\n      <td>Moore Park, Summerhill East</td>\n      <td>0.510000</td>\n    </tr>\n    <tr>\n      <th>68</th>\n      <td>North Toronto West</td>\n      <td>0.516053</td>\n    </tr>\n    <tr>\n      <th>69</th>\n      <td>Northwest</td>\n      <td>0.515000</td>\n    </tr>\n    <tr>\n      <th>70</th>\n      <td>Northwood Park, York University</td>\n      <td>0.427857</td>\n    </tr>\n    <tr>\n      <th>71</th>\n      <td>Parkdale, Roncesvalles</td>\n      <td>0.507308</td>\n    </tr>\n    <tr>\n      <th>72</th>\n      <td>Parkwoods</td>\n      <td>0.515000</td>\n    </tr>\n    <tr>\n      <th>73</th>\n      <td>Queen's Park</td>\n      <td>0.512500</td>\n    </tr>\n    <tr>\n      <th>74</th>\n      <td>Rosedale</td>\n      <td>0.520000</td>\n    </tr>\n    <tr>\n      <th>75</th>\n      <td>Roselawn</td>\n      <td>0.505000</td>\n    </tr>\n    <tr>\n      <th>76</th>\n      <td>Rouge, Malvern</td>\n      <td>0.505000</td>\n    </tr>\n    <tr>\n      <th>77</th>\n      <td>Runnymede, Swansea</td>\n      <td>0.610714</td>\n    </tr>\n    <tr>\n      <th>78</th>\n      <td>Ryerson, Garden District</td>\n      <td>0.932500</td>\n    </tr>\n    <tr>\n      <th>79</th>\n      <td>Scarborough Village</td>\n      <td>0.505000</td>\n    </tr>\n    <tr>\n      <th>80</th>\n      <td>Silver Hills, York Mills</td>\n      <td>0.510000</td>\n    </tr>\n    <tr>\n      <th>81</th>\n      <td>St. James Town</td>\n      <td>0.955000</td>\n    </tr>\n    <tr>\n      <th>82</th>\n      <td>Stn A PO Boxes 25 The Esplanade</td>\n      <td>0.880263</td>\n    </tr>\n    <tr>\n      <th>83</th>\n      <td>Studio District</td>\n      <td>0.650122</td>\n    </tr>\n    <tr>\n      <th>84</th>\n      <td>The Annex, North Midtown, Yorkville</td>\n      <td>0.507727</td>\n    </tr>\n    <tr>\n      <th>85</th>\n      <td>The Beaches</td>\n      <td>0.525000</td>\n    </tr>\n    <tr>\n      <th>86</th>\n      <td>The Beaches West, India Bazaar</td>\n      <td>0.590000</td>\n    </tr>\n    <tr>\n      <th>87</th>\n      <td>The Danforth West, Riverdale</td>\n      <td>0.650122</td>\n    </tr>\n    <tr>\n      <th>88</th>\n      <td>The Junction North, Runnymede</td>\n      <td>0.520000</td>\n    </tr>\n    <tr>\n      <th>89</th>\n      <td>The Kingsway, Montgomery Road, Old Mill North</td>\n      <td>0.515000</td>\n    </tr>\n    <tr>\n      <th>90</th>\n      <td>Thorncliffe Park</td>\n      <td>0.548333</td>\n    </tr>\n    <tr>\n      <th>91</th>\n      <td>Victoria Village</td>\n      <td>0.405000</td>\n    </tr>\n    <tr>\n      <th>92</th>\n      <td>Westmount</td>\n      <td>0.405000</td>\n    </tr>\n    <tr>\n      <th>93</th>\n      <td>Weston</td>\n      <td>0.505000</td>\n    </tr>\n    <tr>\n      <th>94</th>\n      <td>Willowdale South</td>\n      <td>0.632143</td>\n    </tr>\n    <tr>\n      <th>95</th>\n      <td>Willowdale West</td>\n      <td>0.375000</td>\n    </tr>\n    <tr>\n      <th>96</th>\n      <td>Woburn</td>\n      <td>0.015000</td>\n    </tr>\n    <tr>\n      <th>97</th>\n      <td>Woodbine Gardens, Parkview Hill</td>\n      <td>0.565000</td>\n    </tr>\n    <tr>\n      <th>98</th>\n      <td>Woodbine Heights</td>\n      <td>0.550000</td>\n    </tr>\n    <tr>\n      <th>99</th>\n      <td>York Mills West</td>\n      <td>0.515000</td>\n    </tr>\n  </tbody>\n</table>\n</div>",
                        "text/plain": "                                         Neighborhood     Score\n0                            Adelaide, King, Richmond  0.947500\n1                                           Agincourt  0.525000\n2   Agincourt North, L'Amoreaux East, Milliken, St...  0.510000\n3   Albion Gardens, Beaumond Heights, Humbergate, ...  0.475000\n4                              Alderwood, Long Branch  0.461667\n5     Bathurst Manor, Downsview North, Wilson Heights  0.506667\n6                                     Bayview Village  0.520000\n7                   Bedford Park, Lawrence Manor East  0.565000\n8                                         Berczy Park  0.706818\n9                         Birch Cliff, Cliffside West  0.520000\n10  Bloordale Gardens, Eringate, Markland Wood, Ol...  0.446250\n11       Brockton, Exhibition Place, Parkdale Village  0.549783\n12  Business Reply Mail Processing Centre 969 Eastern  0.595000\n13                        CFB Toronto, Downsview East  0.515000\n14  CN Tower, Bathurst Quay, Island airport, Harbo...  0.540882\n15                        Cabbagetown, St. James Town  0.656429\n16                                Caledonia-Fairbanks  0.520000\n17              Canada Post Gateway Processing Centre  0.435000\n18                                          Cedarbrae  0.540000\n19                                 Central Bay Street  0.801471\n20          Chinatown, Grange Park, Kensington Market  0.867963\n21                                           Christie  0.540882\n22                               Church and Wellesley  0.860783\n23                    Clairlea, Golden Mile, Oakridge  0.540000\n24            Clarks Corners, Sullivan, Tam O'Shanter  0.555000\n25    Cliffcrest, Cliffside, Scarborough Village West  0.510000\n26  Cloverdale, Islington, Martin Grove, Princess ...  0.505000\n27                     Commerce Court, Victoria Hotel  0.910000\n28                                         Davisville  0.632143\n29                                   Davisville North  0.540000\n30  Deer Park, Forest Hill SE, Rathnelly, South Hi...  0.462857\n31     Del Ray, Keelesdale, Mount Dennis, Silverthorn  0.525000\n32           Design Exchange, Toronto Dominion Centre  0.910000\n33                                    Don Mills North  0.530000\n34  Dorset Park, Scarborough Town Centre, Wexford ...  0.530000\n35                       Dovercourt Village, Dufferin  0.575000\n36                                  Downsview Central  0.515000\n37                                Downsview Northwest  0.332500\n38                                     Downsview West  0.530000\n39                 Downsview, North Park, Upwood Park  0.520000\n40        East Birchmount Park, Ionview, Kennedy Park  0.375000\n41                                       East Toronto  0.265000\n42                                   Emery, Humberlea  0.515000\n43                       Fairview, Henry Farm, Oriole  0.755476\n44             First Canadian Place, Underground city  0.917500\n45                   Flemingdon Park, Don Mills South  0.549783\n46                Forest Hill North, Forest Hill West  0.520000\n47                                          Glencairn  0.520000\n48                  Guildwood, Morningside, West Hill  0.540000\n49                     Harbord, University of Toronto  0.647941\n50                                       Harbourfront  0.599565\n51  Harbourfront East, Toronto Islands, Union Station  0.910000\n52                      High Park, The Junction South  0.615000\n53             Highland Creek, Rouge Hill, Port Union  0.505000\n54                                  Hillcrest Village  0.520000\n55       Humber Bay Shores, Mimico South, New Toronto  0.565000\n56  Humber Bay, King's Mill Park, Kingsway Park So...  0.505000\n57                                      Humber Summit  0.510000\n58                                 Humewood-Cedarvale  0.515000\n59  Kingsview Village, Martin Grove Gardens, Richv...  0.520000\n60  Kingsway Park South West, Mimico NW, The Queen...  0.570000\n61                                    L'Amoreaux West  0.486818\n62                   Lawrence Heights, Lawrence Manor  0.525000\n63                                      Lawrence Park  0.520000\n64                                            Leaside  0.596818\n65                           Little Portugal, Trinity  0.722547\n66                                  Maryvale, Wexford  0.540000\n67                        Moore Park, Summerhill East  0.510000\n68                                 North Toronto West  0.516053\n69                                          Northwest  0.515000\n70                    Northwood Park, York University  0.427857\n71                             Parkdale, Roncesvalles  0.507308\n72                                          Parkwoods  0.515000\n73                                       Queen's Park  0.512500\n74                                           Rosedale  0.520000\n75                                           Roselawn  0.505000\n76                                     Rouge, Malvern  0.505000\n77                                 Runnymede, Swansea  0.610714\n78                           Ryerson, Garden District  0.932500\n79                                Scarborough Village  0.505000\n80                           Silver Hills, York Mills  0.510000\n81                                     St. James Town  0.955000\n82                    Stn A PO Boxes 25 The Esplanade  0.880263\n83                                    Studio District  0.650122\n84                The Annex, North Midtown, Yorkville  0.507727\n85                                        The Beaches  0.525000\n86                     The Beaches West, India Bazaar  0.590000\n87                       The Danforth West, Riverdale  0.650122\n88                      The Junction North, Runnymede  0.520000\n89      The Kingsway, Montgomery Road, Old Mill North  0.515000\n90                                   Thorncliffe Park  0.548333\n91                                   Victoria Village  0.405000\n92                                          Westmount  0.405000\n93                                             Weston  0.505000\n94                                   Willowdale South  0.632143\n95                                    Willowdale West  0.375000\n96                                             Woburn  0.015000\n97                    Woodbine Gardens, Parkview Hill  0.565000\n98                                   Woodbine Heights  0.550000\n99                                    York Mills West  0.515000"
                    },
                    "execution_count": 82,
                    "metadata": {},
                    "output_type": "execute_result"
                }
            ],
            "source": "s_final = pd.DataFrame({'Neighborhood': [], 'Score': []})\n\nm = 0\nfor index, row in num_ven.iterrows():\n    t3 = 0.5*(final.iloc[m,2]/max_num +(1/max_per)*(max_per-final.iloc[m,1])) # This formula equally weighs the number of venues and the percentage of venues that are coffee shops, where the closer a neighborhood comes to the highest number of venues and the farther away it gets from the highest perceptage of coffee shops, the closer its score will be to 1.\n    s_final = s_final.append({'Neighborhood': index, 'Score': t3}, ignore_index = True)\n    m = m + 1\ns_final"
        },
        {
            "cell_type": "markdown",
            "metadata": {},
            "source": "## Finally, We Determine the Ideal Location of a Coffee Shop Based on which Neighborhood Came Closest to a Score of 1"
        },
        {
            "cell_type": "code",
            "execution_count": 87,
            "metadata": {},
            "outputs": [
                {
                    "data": {
                        "text/html": "<div>\n<style scoped>\n    .dataframe tbody tr th:only-of-type {\n        vertical-align: middle;\n    }\n\n    .dataframe tbody tr th {\n        vertical-align: top;\n    }\n\n    .dataframe thead th {\n        text-align: right;\n    }\n</style>\n<table border=\"1\" class=\"dataframe\">\n  <thead>\n    <tr style=\"text-align: right;\">\n      <th></th>\n      <th>Neighborhood</th>\n      <th>Score</th>\n    </tr>\n  </thead>\n  <tbody>\n    <tr>\n      <th>81</th>\n      <td>St. James Town</td>\n      <td>0.955</td>\n    </tr>\n  </tbody>\n</table>\n</div>",
                        "text/plain": "      Neighborhood  Score\n81  St. James Town  0.955"
                    },
                    "execution_count": 87,
                    "metadata": {},
                    "output_type": "execute_result"
                }
            ],
            "source": "max_s = s_final['Score'].max()\nideal_loc = s_final[s_final['Score'] == max_s]\nideal_loc"
        },
        {
            "cell_type": "markdown",
            "metadata": {},
            "source": "# ANSWER: St. James Town"
        }
    ],
    "metadata": {
        "kernelspec": {
            "display_name": "Python 3.6",
            "language": "python",
            "name": "python3"
        },
        "language_info": {
            "codemirror_mode": {
                "name": "ipython",
                "version": 3
            },
            "file_extension": ".py",
            "mimetype": "text/x-python",
            "name": "python",
            "nbconvert_exporter": "python",
            "pygments_lexer": "ipython3",
            "version": "3.6.9"
        }
    },
    "nbformat": 4,
    "nbformat_minor": 1
}